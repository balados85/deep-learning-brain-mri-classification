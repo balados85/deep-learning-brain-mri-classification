{
  "nbformat": 4,
  "nbformat_minor": 0,
  "metadata": {
    "colab": {
      "name": "RandomSearchCNN.ipynb",
      "provenance": [],
      "collapsed_sections": [],
      "authorship_tag": "ABX9TyN0xQZdnKaKPSIa2T/Lhujs",
      "include_colab_link": true
    },
    "kernelspec": {
      "name": "python3",
      "display_name": "Python 3"
    },
    "language_info": {
      "name": "python"
    }
  },
  "cells": [
    {
      "cell_type": "markdown",
      "metadata": {
        "id": "view-in-github",
        "colab_type": "text"
      },
      "source": [
        "<a href=\"https://colab.research.google.com/github/balados85/deep-learning-brain-mri-classification/blob/main/RandomSearchCNN.ipynb\" target=\"_parent\"><img src=\"https://colab.research.google.com/assets/colab-badge.svg\" alt=\"Open In Colab\"/></a>"
      ]
    },
    {
      "cell_type": "code",
      "metadata": {
        "id": "0Ydr51BBnVRj"
      },
      "source": [
        "!pip install keras-tuner -q"
      ],
      "execution_count": 7,
      "outputs": []
    },
    {
      "cell_type": "code",
      "metadata": {
        "colab": {
          "base_uri": "https://localhost:8080/"
        },
        "id": "t7j33M8-m7Y0",
        "outputId": "9f3a8cd4-772c-44fb-d4ad-19b1b5520ad4"
      },
      "source": [
        "from google.colab import drive\n",
        "from tensorflow import keras\n",
        "import numpy as np\n",
        "import tensorflow as tf\n",
        "from keras.preprocessing.image import ImageDataGenerator\n",
        "from tensorflow import keras\n",
        "from tensorflow.keras import layers\n",
        "from keras_tuner import RandomSearch\n",
        "from glob import glob\n",
        "from keras_tuner import HyperModel\n",
        "import matplotlib.pyplot as plt\n",
        "from tensorflow.keras.models import Sequential\n",
        "from tensorflow.keras.layers.experimental import preprocessing\n",
        "drive.mount('/content/drive')"
      ],
      "execution_count": 10,
      "outputs": [
        {
          "output_type": "stream",
          "text": [
            "Drive already mounted at /content/drive; to attempt to forcibly remount, call drive.mount(\"/content/drive\", force_remount=True).\n"
          ],
          "name": "stdout"
        }
      ]
    },
    {
      "cell_type": "code",
      "metadata": {
        "colab": {
          "base_uri": "https://localhost:8080/"
        },
        "id": "V8XLeDtYndsp",
        "outputId": "f8af2251-1e4e-4195-8cb2-b4e6eeadf35f"
      },
      "source": [
        "train_datagen = ImageDataGenerator(validation_split=0.2, rescale = 1./255)\n",
        "\n",
        "train_set = train_datagen.flow_from_directory('drive/MyDrive/mri_keras_images/train',\n",
        "                                            target_size = (224, 224),\n",
        "                                            batch_size = 32)\n",
        "\n",
        "validation_set = train_datagen.flow_from_directory('drive/MyDrive/mri_keras_images/validation',\n",
        "                                            target_size = (224, 224),\n",
        "                                            batch_size = 32)"
      ],
      "execution_count": 5,
      "outputs": [
        {
          "output_type": "stream",
          "text": [
            "Found 1746 images belonging to 3 classes.\n",
            "Found 806 images belonging to 3 classes.\n"
          ],
          "name": "stdout"
        }
      ]
    },
    {
      "cell_type": "code",
      "metadata": {
        "id": "6dIkbuPQXc-n"
      },
      "source": [
        "img_augmentation = Sequential(\n",
        "    [\n",
        "        preprocessing.RandomRotation(factor=0.15),\n",
        "        preprocessing.RandomTranslation(height_factor=0.1, width_factor=0.1),\n",
        "        preprocessing.RandomFlip(),\n",
        "        preprocessing.RandomContrast(factor=0.1),\n",
        "    ],\n",
        "    name=\"img_augmentation\",\n",
        ")"
      ],
      "execution_count": 12,
      "outputs": []
    },
    {
      "cell_type": "code",
      "metadata": {
        "colab": {
          "base_uri": "https://localhost:8080/"
        },
        "id": "7plq0sSWopk7",
        "outputId": "cf72a94e-1c0f-4426-c5ca-9e99e08b04b6"
      },
      "source": [
        "test_datagen = ImageDataGenerator(rescale = 1./255)\n",
        "test_set = test_datagen.flow_from_directory('drive/MyDrive/mri_keras_images/test',\n",
        "                                            target_size = (224, 224),\n",
        "                                            batch_size = 32)"
      ],
      "execution_count": 13,
      "outputs": [
        {
          "output_type": "stream",
          "text": [
            "Found 569 images belonging to 3 classes.\n"
          ],
          "name": "stdout"
        }
      ]
    },
    {
      "cell_type": "code",
      "metadata": {
        "id": "sDhNjylBX6f6"
      },
      "source": [
        "def plot_hist(hist):\n",
        "    plt.plot(hist.history[\"accuracy\"])\n",
        "    plt.plot(hist.history[\"val_accuracy\"])\n",
        "    plt.title(\"model accuracy\")\n",
        "    plt.ylabel(\"accuracy\")\n",
        "    plt.xlabel(\"epoch\")\n",
        "    plt.legend([\"train\", \"validation\"], loc=\"upper left\")\n",
        "    plt.show()"
      ],
      "execution_count": 14,
      "outputs": []
    },
    {
      "cell_type": "markdown",
      "metadata": {
        "id": "5xOoTLoGqD6U"
      },
      "source": [
        "**Setting up the tuner**"
      ]
    },
    {
      "cell_type": "code",
      "metadata": {
        "id": "yAcitDnABJ5a"
      },
      "source": [
        "class MyHyperModel(HyperModel):\n",
        "    def __init__(self, classes):\n",
        "        self.classes = classes\n",
        "\n",
        "    def build(self, hp):\n",
        "        model = keras.Sequential()\n",
        "        model.add(layers.Conv2D(filters=32, kernel_size=3, activation='relu', input_shape=[224, 224, 3]))\n",
        "        model.add(tf.keras.layers.MaxPool2D(pool_size=2, strides=2))\n",
        "\n",
        "        model.add(layers.Conv2D(filters=32, kernel_size=3, activation='relu'))\n",
        "        model.add(tf.keras.layers.MaxPool2D(pool_size=2, strides=2))\n",
        "\n",
        "        model.add(tf.keras.layers.Dropout(0.25))\n",
        "\n",
        "        model.add(layers.Conv2D(filters=32, kernel_size=3, activation='relu'))\n",
        "        model.add(tf.keras.layers.MaxPool2D(pool_size=2, strides=2))\n",
        "\n",
        "        model.add(layers.Conv2D(filters=32, kernel_size=3, activation='relu'))\n",
        "        model.add(tf.keras.layers.MaxPool2D(pool_size=2, strides=2))\n",
        "\n",
        "        model.add(tf.keras.layers.Dropout(0.25))\n",
        "\n",
        "        model.add(layers.Flatten())\n",
        "\n",
        "        model.add(\n",
        "            layers.Dense(\n",
        "                units=hp.Int(\"units\", min_value=32, max_value=512, step=32),\n",
        "                activation=\"relu\",\n",
        "            )\n",
        "        )\n",
        "\n",
        "        model.add(tf.keras.layers.Dropout(0.5))\n",
        "\n",
        "        model.add(layers.Dense(self.classes, activation=\"softmax\"))\n",
        "\n",
        "        model.compile(\n",
        "            optimizer=keras.optimizers.Adam(\n",
        "                hp.Choice(\"learning_rate\", values=[1e-2, 1e-3, 1e-4])\n",
        "            ),\n",
        "            loss=\"categorical_crossentropy\",\n",
        "            metrics=[\"accuracy\"],\n",
        "        )\n",
        "        return model\n",
        "\n",
        "\n",
        "hypermodel = MyHyperModel(classes=3)\n",
        "\n"
      ],
      "execution_count": 15,
      "outputs": []
    },
    {
      "cell_type": "code",
      "metadata": {
        "id": "iXGLkl_PYsNY"
      },
      "source": [
        "tuner = RandomSearch(\n",
        "    hypermodel,\n",
        "    objective=\"val_accuracy\",\n",
        "    max_trials=3,\n",
        "    overwrite=True,\n",
        "    directory=\"my_dir\",\n",
        "    project_name=\"MRI image classification\",\n",
        ")"
      ],
      "execution_count": 16,
      "outputs": []
    },
    {
      "cell_type": "code",
      "metadata": {
        "colab": {
          "base_uri": "https://localhost:8080/"
        },
        "id": "fXpyhpe-YvQS",
        "outputId": "9f5ba81a-e5f4-4df9-ab45-4802eea0ad45"
      },
      "source": [
        "x = img_augmentation(train_set)\n",
        "x = preprocess_input(x)\n",
        "tuner.search(x, epochs=2, validation_data=(validation_set))"
      ],
      "execution_count": null,
      "outputs": [
        {
          "output_type": "stream",
          "text": [
            "WARNING:tensorflow:Layers in a Sequential model should only have a single input tensor, but we receive a <class 'keras.preprocessing.image.DirectoryIterator'> input: <keras.preprocessing.image.DirectoryIterator object at 0x7fc3e2a45d10>\n",
            "Consider rewriting this model with the Functional API.\n"
          ],
          "name": "stdout"
        }
      ]
    },
    {
      "cell_type": "code",
      "metadata": {
        "colab": {
          "base_uri": "https://localhost:8080/"
        },
        "id": "wwMNp68FA5-L",
        "outputId": "4c14ee33-4d38-4057-f3fb-3666752cbee2"
      },
      "source": [
        "best_hps=tuner.get_best_hyperparameters()[0]\n",
        "print(f\"\"\"\n",
        "The hyperparameter search is complete. The optimal number of units in the first densely-connected\n",
        "layer is {best_hps.get('units')} and the optimal learning rate for the optimizer\n",
        "is {best_hps.get('learning_rate')} which gave a validation accuracy of .\n",
        "\"\"\")"
      ],
      "execution_count": null,
      "outputs": [
        {
          "output_type": "stream",
          "text": [
            "\n",
            "The hyperparameter search is complete. The optimal number of units in the first densely-connected\n",
            "layer is 320 and the optimal learning rate for the optimizer\n",
            "is 0.0001 which gave a validation accuracy of .\n",
            "\n"
          ],
          "name": "stdout"
        }
      ]
    },
    {
      "cell_type": "code",
      "metadata": {
        "id": "V0UzW4kjYNIv"
      },
      "source": [
        "# Build the model with the optimal hyperparameters and train it on the data for 50 epochs\n",
        "model = tuner.hypermodel.build(best_hps)"
      ],
      "execution_count": null,
      "outputs": []
    },
    {
      "cell_type": "code",
      "metadata": {
        "colab": {
          "base_uri": "https://localhost:8080/"
        },
        "id": "VV0qrnrUaX-6",
        "outputId": "0302b53e-2f24-4646-a3a3-493c3e753a68"
      },
      "source": [
        "history = model.fit(train_set, epochs=50, validation_data = validation_set)"
      ],
      "execution_count": null,
      "outputs": [
        {
          "output_type": "stream",
          "text": [
            "Epoch 1/50\n",
            "55/55 [==============================] - 134s 2s/step - loss: 1.0218 - accuracy: 0.4954 - val_loss: 0.7155 - val_accuracy: 0.7432\n",
            "Epoch 2/50\n",
            "55/55 [==============================] - 133s 2s/step - loss: 0.7384 - accuracy: 0.6730 - val_loss: 0.3960 - val_accuracy: 0.8486\n",
            "Epoch 3/50\n",
            "55/55 [==============================] - 132s 2s/step - loss: 0.5268 - accuracy: 0.7927 - val_loss: 0.2471 - val_accuracy: 0.9541\n",
            "Epoch 4/50\n",
            "55/55 [==============================] - 132s 2s/step - loss: 0.4116 - accuracy: 0.8333 - val_loss: 0.2344 - val_accuracy: 0.9429\n",
            "Epoch 5/50\n",
            "55/55 [==============================] - 132s 2s/step - loss: 0.3341 - accuracy: 0.8666 - val_loss: 0.2116 - val_accuracy: 0.9429\n",
            "Epoch 6/50\n",
            "55/55 [==============================] - 133s 2s/step - loss: 0.2728 - accuracy: 0.8952 - val_loss: 0.1761 - val_accuracy: 0.9491\n",
            "Epoch 7/50\n",
            "55/55 [==============================] - 133s 2s/step - loss: 0.2348 - accuracy: 0.9078 - val_loss: 0.1733 - val_accuracy: 0.9467\n",
            "Epoch 8/50\n",
            "55/55 [==============================] - 132s 2s/step - loss: 0.2040 - accuracy: 0.9255 - val_loss: 0.1615 - val_accuracy: 0.9504\n",
            "Epoch 9/50\n",
            "55/55 [==============================] - 132s 2s/step - loss: 0.1627 - accuracy: 0.9433 - val_loss: 0.1946 - val_accuracy: 0.9479\n",
            "Epoch 10/50\n",
            "55/55 [==============================] - 132s 2s/step - loss: 0.1288 - accuracy: 0.9519 - val_loss: 0.1689 - val_accuracy: 0.9516\n",
            "Epoch 11/50\n",
            "55/55 [==============================] - 131s 2s/step - loss: 0.0995 - accuracy: 0.9668 - val_loss: 0.1601 - val_accuracy: 0.9529\n",
            "Epoch 12/50\n",
            "55/55 [==============================] - 132s 2s/step - loss: 0.0932 - accuracy: 0.9691 - val_loss: 0.1447 - val_accuracy: 0.9578\n",
            "Epoch 13/50\n",
            "55/55 [==============================] - 132s 2s/step - loss: 0.0744 - accuracy: 0.9765 - val_loss: 0.1500 - val_accuracy: 0.9603\n",
            "Epoch 14/50\n",
            "55/55 [==============================] - 132s 2s/step - loss: 0.0629 - accuracy: 0.9840 - val_loss: 0.1283 - val_accuracy: 0.9578\n",
            "Epoch 15/50\n",
            "55/55 [==============================] - 132s 2s/step - loss: 0.0534 - accuracy: 0.9880 - val_loss: 0.1310 - val_accuracy: 0.9640\n",
            "Epoch 16/50\n",
            "55/55 [==============================] - 132s 2s/step - loss: 0.0490 - accuracy: 0.9845 - val_loss: 0.1424 - val_accuracy: 0.9640\n",
            "Epoch 17/50\n",
            "55/55 [==============================] - 133s 2s/step - loss: 0.0367 - accuracy: 0.9914 - val_loss: 0.1376 - val_accuracy: 0.9665\n",
            "Epoch 18/50\n",
            "55/55 [==============================] - 132s 2s/step - loss: 0.0340 - accuracy: 0.9903 - val_loss: 0.1299 - val_accuracy: 0.9640\n",
            "Epoch 19/50\n",
            "55/55 [==============================] - 132s 2s/step - loss: 0.0349 - accuracy: 0.9908 - val_loss: 0.1517 - val_accuracy: 0.9665\n",
            "Epoch 20/50\n",
            "55/55 [==============================] - 133s 2s/step - loss: 0.0225 - accuracy: 0.9948 - val_loss: 0.1542 - val_accuracy: 0.9677\n",
            "Epoch 21/50\n",
            "55/55 [==============================] - 133s 2s/step - loss: 0.0244 - accuracy: 0.9926 - val_loss: 0.1650 - val_accuracy: 0.9677\n",
            "Epoch 22/50\n",
            "55/55 [==============================] - 132s 2s/step - loss: 0.0182 - accuracy: 0.9960 - val_loss: 0.1492 - val_accuracy: 0.9640\n",
            "Epoch 23/50\n",
            "55/55 [==============================] - 133s 2s/step - loss: 0.0168 - accuracy: 0.9960 - val_loss: 0.1694 - val_accuracy: 0.9690\n",
            "Epoch 24/50\n",
            "55/55 [==============================] - 133s 2s/step - loss: 0.0217 - accuracy: 0.9926 - val_loss: 0.1555 - val_accuracy: 0.9665\n",
            "Epoch 25/50\n",
            "55/55 [==============================] - 133s 2s/step - loss: 0.0118 - accuracy: 0.9983 - val_loss: 0.1665 - val_accuracy: 0.9677\n",
            "Epoch 26/50\n",
            "55/55 [==============================] - 133s 2s/step - loss: 0.0124 - accuracy: 0.9966 - val_loss: 0.1614 - val_accuracy: 0.9665\n",
            "Epoch 27/50\n",
            "55/55 [==============================] - 132s 2s/step - loss: 0.0120 - accuracy: 0.9971 - val_loss: 0.1688 - val_accuracy: 0.9665\n",
            "Epoch 28/50\n",
            "55/55 [==============================] - 131s 2s/step - loss: 0.0121 - accuracy: 0.9966 - val_loss: 0.1684 - val_accuracy: 0.9653\n",
            "Epoch 29/50\n",
            "55/55 [==============================] - 132s 2s/step - loss: 0.0096 - accuracy: 0.9983 - val_loss: 0.1746 - val_accuracy: 0.9677\n",
            "Epoch 30/50\n",
            "55/55 [==============================] - 132s 2s/step - loss: 0.0093 - accuracy: 0.9983 - val_loss: 0.1751 - val_accuracy: 0.9653\n",
            "Epoch 31/50\n",
            "55/55 [==============================] - 133s 2s/step - loss: 0.0104 - accuracy: 0.9966 - val_loss: 0.1898 - val_accuracy: 0.9653\n",
            "Epoch 32/50\n",
            "55/55 [==============================] - 133s 2s/step - loss: 0.0081 - accuracy: 0.9994 - val_loss: 0.1719 - val_accuracy: 0.9677\n",
            "Epoch 33/50\n",
            "55/55 [==============================] - 134s 2s/step - loss: 0.0075 - accuracy: 0.9989 - val_loss: 0.1788 - val_accuracy: 0.9677\n",
            "Epoch 34/50\n",
            "55/55 [==============================] - 133s 2s/step - loss: 0.0104 - accuracy: 0.9971 - val_loss: 0.1980 - val_accuracy: 0.9665\n",
            "Epoch 35/50\n",
            "55/55 [==============================] - 133s 2s/step - loss: 0.0100 - accuracy: 0.9966 - val_loss: 0.1751 - val_accuracy: 0.9665\n",
            "Epoch 36/50\n",
            "55/55 [==============================] - 133s 2s/step - loss: 0.0085 - accuracy: 0.9994 - val_loss: 0.1737 - val_accuracy: 0.9665\n",
            "Epoch 37/50\n",
            "55/55 [==============================] - 133s 2s/step - loss: 0.0056 - accuracy: 0.9989 - val_loss: 0.1801 - val_accuracy: 0.9665\n",
            "Epoch 38/50\n",
            "55/55 [==============================] - 134s 2s/step - loss: 0.0050 - accuracy: 0.9994 - val_loss: 0.1835 - val_accuracy: 0.9653\n",
            "Epoch 39/50\n",
            "55/55 [==============================] - 133s 2s/step - loss: 0.0050 - accuracy: 0.9989 - val_loss: 0.1912 - val_accuracy: 0.9665\n",
            "Epoch 40/50\n",
            "55/55 [==============================] - 134s 2s/step - loss: 0.0033 - accuracy: 1.0000 - val_loss: 0.2040 - val_accuracy: 0.9677\n",
            "Epoch 41/50\n",
            "55/55 [==============================] - 134s 2s/step - loss: 0.0038 - accuracy: 0.9994 - val_loss: 0.1954 - val_accuracy: 0.9677\n",
            "Epoch 42/50\n",
            "55/55 [==============================] - 133s 2s/step - loss: 0.0057 - accuracy: 0.9983 - val_loss: 0.2188 - val_accuracy: 0.9677\n",
            "Epoch 43/50\n",
            "55/55 [==============================] - 134s 2s/step - loss: 0.0062 - accuracy: 0.9989 - val_loss: 0.1703 - val_accuracy: 0.9665\n",
            "Epoch 44/50\n",
            "55/55 [==============================] - 133s 2s/step - loss: 0.0035 - accuracy: 0.9994 - val_loss: 0.2045 - val_accuracy: 0.9653\n",
            "Epoch 45/50\n",
            "55/55 [==============================] - 134s 2s/step - loss: 0.0021 - accuracy: 1.0000 - val_loss: 0.2070 - val_accuracy: 0.9677\n",
            "Epoch 46/50\n",
            "55/55 [==============================] - 134s 2s/step - loss: 0.0053 - accuracy: 0.9989 - val_loss: 0.2164 - val_accuracy: 0.9665\n",
            "Epoch 47/50\n",
            "55/55 [==============================] - 133s 2s/step - loss: 0.0028 - accuracy: 0.9994 - val_loss: 0.1983 - val_accuracy: 0.9677\n",
            "Epoch 48/50\n",
            "55/55 [==============================] - 133s 2s/step - loss: 0.0074 - accuracy: 0.9977 - val_loss: 0.1982 - val_accuracy: 0.9690\n",
            "Epoch 49/50\n",
            "55/55 [==============================] - 134s 2s/step - loss: 0.0035 - accuracy: 0.9994 - val_loss: 0.1946 - val_accuracy: 0.9628\n",
            "Epoch 50/50\n",
            "55/55 [==============================] - 134s 2s/step - loss: 0.0031 - accuracy: 0.9994 - val_loss: 0.2138 - val_accuracy: 0.9640\n"
          ],
          "name": "stdout"
        }
      ]
    },
    {
      "cell_type": "code",
      "metadata": {
        "id": "yC14fkRGYQZx"
      },
      "source": [
        "val_acc_per_epoch = history.history['val_accuracy']"
      ],
      "execution_count": null,
      "outputs": []
    },
    {
      "cell_type": "code",
      "metadata": {
        "colab": {
          "base_uri": "https://localhost:8080/"
        },
        "id": "GUy2SqU2aaoF",
        "outputId": "744c8c59-3d4e-4ba0-c260-377ffbf8af80"
      },
      "source": [
        "best_epoch = val_acc_per_epoch.index(max(val_acc_per_epoch)) + 1\n",
        "print('Best epoch: %d' % (best_epoch,))"
      ],
      "execution_count": null,
      "outputs": [
        {
          "output_type": "stream",
          "text": [
            "Best epoch: 23\n"
          ],
          "name": "stdout"
        }
      ]
    },
    {
      "cell_type": "code",
      "metadata": {
        "colab": {
          "base_uri": "https://localhost:8080/",
          "height": 295
        },
        "id": "63e4gg6EDzg_",
        "outputId": "84dab740-86d5-44c9-a868-66f7046d60ce"
      },
      "source": [
        "plot_hist(history)"
      ],
      "execution_count": null,
      "outputs": [
        {
          "output_type": "display_data",
          "data": {
            "image/png": "[encoded data removed]",
            "text/plain": [
              "<Figure size 432x288 with 1 Axes>"
            ]
          },
          "metadata": {
            "tags": [],
            "needs_background": "light"
          }
        }
      ]
    },
    {
      "cell_type": "code",
      "metadata": {
        "colab": {
          "base_uri": "https://localhost:8080/"
        },
        "id": "1eY6gMsgQZVr",
        "outputId": "48a03646-4fca-40ba-9c85-03ca66267255"
      },
      "source": [
        "hypermodel = tuner.hypermodel.build(best_hps)\n",
        "\n",
        "# Retrain the model\n",
        "hist = hypermodel.fit(train_set, epochs=best_epoch, validation_data=validation_set)\n",
        "\n",
        "\n",
        "eval_result = hypermodel.evaluate(test_set)\n",
        "print(\"[test loss, test accuracy]:\", eval_result)"
      ],
      "execution_count": null,
      "outputs": [
        {
          "output_type": "stream",
          "text": [
            "Epoch 1/23\n",
            "55/55 [==============================] - 134s 2s/step - loss: 1.0576 - accuracy: 0.4496 - val_loss: 0.8291 - val_accuracy: 0.7122\n",
            "Epoch 2/23\n",
            "55/55 [==============================] - 132s 2s/step - loss: 0.8478 - accuracy: 0.5916 - val_loss: 0.4826 - val_accuracy: 0.9467\n",
            "Epoch 3/23\n",
            "55/55 [==============================] - 133s 2s/step - loss: 0.5548 - accuracy: 0.7698 - val_loss: 0.3019 - val_accuracy: 0.9330\n",
            "Epoch 4/23\n",
            "55/55 [==============================] - 132s 2s/step - loss: 0.4079 - accuracy: 0.8276 - val_loss: 0.2684 - val_accuracy: 0.9280\n",
            "Epoch 5/23\n",
            "55/55 [==============================] - 133s 2s/step - loss: 0.3491 - accuracy: 0.8477 - val_loss: 0.2666 - val_accuracy: 0.9243\n",
            "Epoch 6/23\n",
            "55/55 [==============================] - 132s 2s/step - loss: 0.2875 - accuracy: 0.8797 - val_loss: 0.2901 - val_accuracy: 0.9156\n",
            "Epoch 7/23\n",
            "55/55 [==============================] - 133s 2s/step - loss: 0.2318 - accuracy: 0.9152 - val_loss: 0.2605 - val_accuracy: 0.9256\n",
            "Epoch 8/23\n",
            "55/55 [==============================] - 132s 2s/step - loss: 0.1971 - accuracy: 0.9290 - val_loss: 0.2977 - val_accuracy: 0.9132\n",
            "Epoch 9/23\n",
            "55/55 [==============================] - 133s 2s/step - loss: 0.1521 - accuracy: 0.9490 - val_loss: 0.2423 - val_accuracy: 0.9293\n",
            "Epoch 10/23\n",
            "55/55 [==============================] - 133s 2s/step - loss: 0.1301 - accuracy: 0.9548 - val_loss: 0.2520 - val_accuracy: 0.9280\n",
            "Epoch 11/23\n",
            "55/55 [==============================] - 132s 2s/step - loss: 0.1024 - accuracy: 0.9714 - val_loss: 0.2196 - val_accuracy: 0.9355\n",
            "Epoch 12/23\n",
            "55/55 [==============================] - 132s 2s/step - loss: 0.0997 - accuracy: 0.9651 - val_loss: 0.2625 - val_accuracy: 0.9305\n",
            "Epoch 13/23\n",
            "55/55 [==============================] - 133s 2s/step - loss: 0.0800 - accuracy: 0.9765 - val_loss: 0.2352 - val_accuracy: 0.9417\n",
            "Epoch 14/23\n",
            "55/55 [==============================] - 132s 2s/step - loss: 0.0756 - accuracy: 0.9759 - val_loss: 0.2146 - val_accuracy: 0.9442\n",
            "Epoch 15/23\n",
            "55/55 [==============================] - 132s 2s/step - loss: 0.0601 - accuracy: 0.9811 - val_loss: 0.2024 - val_accuracy: 0.9541\n",
            "Epoch 16/23\n",
            "55/55 [==============================] - 133s 2s/step - loss: 0.0445 - accuracy: 0.9885 - val_loss: 0.2048 - val_accuracy: 0.9541\n",
            "Epoch 17/23\n",
            "55/55 [==============================] - 133s 2s/step - loss: 0.0439 - accuracy: 0.9851 - val_loss: 0.1998 - val_accuracy: 0.9553\n",
            "Epoch 18/23\n",
            "55/55 [==============================] - 133s 2s/step - loss: 0.0391 - accuracy: 0.9897 - val_loss: 0.2018 - val_accuracy: 0.9578\n",
            "Epoch 19/23\n",
            "55/55 [==============================] - 132s 2s/step - loss: 0.0324 - accuracy: 0.9903 - val_loss: 0.2075 - val_accuracy: 0.9566\n",
            "Epoch 20/23\n",
            "55/55 [==============================] - 133s 2s/step - loss: 0.0273 - accuracy: 0.9926 - val_loss: 0.2162 - val_accuracy: 0.9566\n",
            "Epoch 21/23\n",
            "55/55 [==============================] - 132s 2s/step - loss: 0.0253 - accuracy: 0.9937 - val_loss: 0.2077 - val_accuracy: 0.9566\n",
            "Epoch 22/23\n",
            "55/55 [==============================] - 133s 2s/step - loss: 0.0264 - accuracy: 0.9920 - val_loss: 0.2097 - val_accuracy: 0.9603\n",
            "Epoch 23/23\n",
            "55/55 [==============================] - 133s 2s/step - loss: 0.0206 - accuracy: 0.9948 - val_loss: 0.2104 - val_accuracy: 0.9615\n",
            "18/18 [==============================] - 12s 656ms/step - loss: 4.3960 - accuracy: 0.5923\n",
            "[test loss, test accuracy]: [4.395955562591553, 0.5922671556472778]\n"
          ],
          "name": "stdout"
        }
      ]
    },
    {
      "cell_type": "code",
      "metadata": {
        "colab": {
          "base_uri": "https://localhost:8080/",
          "height": 295
        },
        "id": "u5ARCG55D-L1",
        "outputId": "92c90296-8039-4908-a506-e530f51bd8a7"
      },
      "source": [
        "plot_hist(hist)"
      ],
      "execution_count": null,
      "outputs": [
        {
          "output_type": "display_data",
          "data": {
            "image/png": "[encoded data removed]",
            "text/plain": [
              "<Figure size 432x288 with 1 Axes>"
            ]
          },
          "metadata": {
            "tags": [],
            "needs_background": "light"
          }
        }
      ]
    },
    {
      "cell_type": "code",
      "metadata": {
        "colab": {
          "base_uri": "https://localhost:8080/"
        },
        "id": "4FH7tXbzDK2c",
        "outputId": "fffc0718-2aa3-4e6d-e772-c442b493707e"
      },
      "source": [
        "model.summary()\n",
        "hypermodel.summary()\n"
      ],
      "execution_count": null,
      "outputs": [
        {
          "output_type": "stream",
          "text": [
            "Model: \"sequential\"\n",
            "_________________________________________________________________\n",
            "Layer (type)                 Output Shape              Param #   \n",
            "=================================================================\n",
            "conv2d (Conv2D)              (None, 222, 222, 32)      896       \n",
            "_________________________________________________________________\n",
            "max_pooling2d (MaxPooling2D) (None, 111, 111, 32)      0         \n",
            "_________________________________________________________________\n",
            "conv2d_1 (Conv2D)            (None, 109, 109, 32)      9248      \n",
            "_________________________________________________________________\n",
            "max_pooling2d_1 (MaxPooling2 (None, 54, 54, 32)        0         \n",
            "_________________________________________________________________\n",
            "dropout (Dropout)            (None, 54, 54, 32)        0         \n",
            "_________________________________________________________________\n",
            "conv2d_2 (Conv2D)            (None, 52, 52, 32)        9248      \n",
            "_________________________________________________________________\n",
            "max_pooling2d_2 (MaxPooling2 (None, 26, 26, 32)        0         \n",
            "_________________________________________________________________\n",
            "conv2d_3 (Conv2D)            (None, 24, 24, 32)        9248      \n",
            "_________________________________________________________________\n",
            "max_pooling2d_3 (MaxPooling2 (None, 12, 12, 32)        0         \n",
            "_________________________________________________________________\n",
            "dropout_1 (Dropout)          (None, 12, 12, 32)        0         \n",
            "_________________________________________________________________\n",
            "flatten (Flatten)            (None, 4608)              0         \n",
            "_________________________________________________________________\n",
            "dense (Dense)                (None, 320)               1474880   \n",
            "_________________________________________________________________\n",
            "dropout_2 (Dropout)          (None, 320)               0         \n",
            "_________________________________________________________________\n",
            "dense_1 (Dense)              (None, 3)                 963       \n",
            "=================================================================\n",
            "Total params: 1,504,483\n",
            "Trainable params: 1,504,483\n",
            "Non-trainable params: 0\n",
            "_________________________________________________________________\n",
            "Model: \"sequential\"\n",
            "_________________________________________________________________\n",
            "Layer (type)                 Output Shape              Param #   \n",
            "=================================================================\n",
            "conv2d (Conv2D)              (None, 222, 222, 32)      896       \n",
            "_________________________________________________________________\n",
            "max_pooling2d (MaxPooling2D) (None, 111, 111, 32)      0         \n",
            "_________________________________________________________________\n",
            "conv2d_1 (Conv2D)            (None, 109, 109, 32)      9248      \n",
            "_________________________________________________________________\n",
            "max_pooling2d_1 (MaxPooling2 (None, 54, 54, 32)        0         \n",
            "_________________________________________________________________\n",
            "dropout (Dropout)            (None, 54, 54, 32)        0         \n",
            "_________________________________________________________________\n",
            "conv2d_2 (Conv2D)            (None, 52, 52, 32)        9248      \n",
            "_________________________________________________________________\n",
            "max_pooling2d_2 (MaxPooling2 (None, 26, 26, 32)        0         \n",
            "_________________________________________________________________\n",
            "conv2d_3 (Conv2D)            (None, 24, 24, 32)        9248      \n",
            "_________________________________________________________________\n",
            "max_pooling2d_3 (MaxPooling2 (None, 12, 12, 32)        0         \n",
            "_________________________________________________________________\n",
            "dropout_1 (Dropout)          (None, 12, 12, 32)        0         \n",
            "_________________________________________________________________\n",
            "flatten (Flatten)            (None, 4608)              0         \n",
            "_________________________________________________________________\n",
            "dense (Dense)                (None, 320)               1474880   \n",
            "_________________________________________________________________\n",
            "dropout_2 (Dropout)          (None, 320)               0         \n",
            "_________________________________________________________________\n",
            "dense_1 (Dense)              (None, 3)                 963       \n",
            "=================================================================\n",
            "Total params: 1,504,483\n",
            "Trainable params: 1,504,483\n",
            "Non-trainable params: 0\n",
            "_________________________________________________________________\n"
          ],
          "name": "stdout"
        }
      ]
    },
    {
      "cell_type": "code",
      "metadata": {
        "colab": {
          "base_uri": "https://localhost:8080/"
        },
        "id": "48cjDbo-_KCe",
        "outputId": "6d34ce16-f637-4df6-a27e-349fd6702fb3"
      },
      "source": [
        "tuner.results_summary()"
      ],
      "execution_count": null,
      "outputs": [
        {
          "output_type": "stream",
          "text": [
            "Results summary\n",
            "Results in my_dir/MRI image classification\n",
            "Showing 10 best trials\n",
            "Objective(name='val_accuracy', direction='max')\n",
            "Trial summary\n",
            "Hyperparameters:\n",
            "units: 320\n",
            "learning_rate: 0.0001\n",
            "Score: 0.9478908181190491\n",
            "Trial summary\n",
            "Hyperparameters:\n",
            "units: 288\n",
            "learning_rate: 0.0001\n",
            "Score: 0.7729528546333313\n",
            "Trial summary\n",
            "Hyperparameters:\n",
            "units: 96\n",
            "learning_rate: 0.0001\n",
            "Score: 0.6935483813285828\n"
          ],
          "name": "stdout"
        }
      ]
    }
  ]
}